{
 "cells": [
  {
   "cell_type": "markdown",
   "id": "3bf94906",
   "metadata": {},
   "source": [
    "# Problem 1: Importance Sampling\n",
    "Carregue o conjunto de dados de ajuste de linha (line_fitting.csv) e plote os dados.\n",
    "\n",
    "Ajuste um modelo aos dados usando:\n",
    "um.Priores uniformes em todos os parâmetros\n",
    "b.Priores gaussianos modestamente informativos em todos os parâmetros\n",
    "c.Priores gaussianos fortemente informativos em todos os parâmetros\n",
    "\n",
    "Desenhe amostras do posterior usando qualquer amostrador de sua escolha.\n",
    "\n",
    "Após a amostragem nos casos (b) e (c), calcule os pesos de importância e reamos seus posteriors para \"desfazer\" o anterior informativo.Esta etapa criará um vetor de amostras posteriores não ponderadas do seu vetor original de amostras posteriores ponderadas.Verifique se, após a importância, a amostra de seus resultados é equivalente ao que você obteve no caso (a).\n",
    "\n",
    "Examine as distribuições posteriores.Você vê algum ruído numérico ou outros artefatos de amostragem introduzidos pela amostragem de importância?"
   ]
  },
  {
   "cell_type": "code",
   "execution_count": null,
   "id": "ada5aff3",
   "metadata": {},
   "outputs": [],
   "source": [
    "import "
   ]
  },
  {
   "cell_type": "markdown",
   "id": "a18c95d7",
   "metadata": {},
   "source": [
    "# Problem 2: Umbrella Sampling Tutorial\n",
    "\n",
    "Work through the umbrella sampling tutorial here: https://gjgilbert.github.io/tutorials/umbrella_sampling/\n",
    "\n",
    "Once you complete the tutorial, return to the Line Fitting dataset from Problem 1. Fit a model using umbrella sampling. You'll need to choose how to define your umbrella windows and biases - there are many possible solutions! After sampling from individual umbrellas, combine your samples into a single set of posterior samples. Verify that the results you obtain from umbrella sampling are equivalent to the results you obtain from other methods."
   ]
  },
  {
   "cell_type": "markdown",
   "id": "3e3639b7",
   "metadata": {},
   "source": [
    "# Problem 3: Reparameterizing a Model\n",
    "\n",
    "Read in the Two Component Sinusoid dataset (two_component_sinusoid.csv) and plot the data.\n",
    "\n",
    "Fit a model using the most \"obvious\" parameterization:\n",
    "\n",
    "$y(x) = A_1 \\sin(2\\pi f_1 x - \\phi_1 + A_2 \\sin(2\\pi f_2 x - \\phi_2)$\n",
    "\n",
    "Place appropriate independent priors on each of the six free parameters. Try fitting a model, drawing samples using a sampler of your choosing. Check for convergence and assess the quality of your results. Re-run your model a few times and check if your results remain consistent from run-to-run.\n",
    "\n",
    "You will probably not acheive a very good fit using this parameterization. Why is this parameterization problematic? Re-parameterize the model in order to get a more robust fit. Check for convergence and that your posteriors remain consistent from run-to-run."
   ]
  },
  {
   "cell_type": "code",
   "execution_count": null,
   "id": "566b8e97",
   "metadata": {},
   "outputs": [],
   "source": []
  }
 ],
 "metadata": {
  "kernelspec": {
   "display_name": "lsst-discovery",
   "language": "python",
   "name": "python3"
  },
  "language_info": {
   "codemirror_mode": {
    "name": "ipython",
    "version": 3
   },
   "file_extension": ".py",
   "mimetype": "text/x-python",
   "name": "python",
   "nbconvert_exporter": "python",
   "pygments_lexer": "ipython3",
   "version": "3.9.22"
  }
 },
 "nbformat": 4,
 "nbformat_minor": 5
}
